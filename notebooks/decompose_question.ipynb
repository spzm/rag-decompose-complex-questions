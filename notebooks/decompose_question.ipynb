{
 "cells": [
  {
   "cell_type": "code",
   "execution_count": 8,
   "outputs": [],
   "source": [
    "from langchain.output_parsers import PydanticOutputParser\n",
    "import os\n",
    "\n",
    "from dotenv import load_dotenv\n",
    "from langchain_community.chat_models import ChatOpenAI\n",
    "from langchain_core.prompts import ChatPromptTemplate\n",
    "from langchain_core.runnables import RunnablePassthrough\n",
    "from pydantic import BaseModel\n",
    "\n",
    "load_dotenv()\n",
    "\n",
    "template = \"\"\"I have a Google search request: \"{question}\". Please decompose the question into several subsequent questions where I can pass the answer from the previous question to the next. Each question should only depend on the answer of the previous question. Make sure each subsequent query has a placeholder in square brackets explains what information need to be passed. Make wording of these questions as a Google search request query. Please respond with a maximum of 2 decomposed questions.\n",
    "Tip: Make sure that questions do not repeat each other.\n",
    "Tip: Answer in json format.\n",
    "Tip: Returned json object should contain \"questions\" field with array of string questions inside.\n",
    "\"\"\"\n",
    "prompt = ChatPromptTemplate.from_template(template)\n",
    "\n",
    "model = ChatOpenAI(api_key=os.getenv('OPENAI_API_KEY'), model_name=\"gpt-4-1106-preview\")\n",
    "model.bind(response_format={\"type\": \"json_object\"})\n",
    "\n",
    "\n",
    "class OutputQuestionsSchema(BaseModel):\n",
    "    questions: list[str]\n",
    "\n",
    "\n",
    "chain = (\n",
    "        {\"question\": RunnablePassthrough()}\n",
    "        | prompt\n",
    "        | model\n",
    "        | PydanticOutputParser(pydantic_object=OutputQuestionsSchema)\n",
    ")"
   ],
   "metadata": {
    "collapsed": false,
    "ExecuteTime": {
     "end_time": "2023-12-18T07:20:38.398594Z",
     "start_time": "2023-12-18T07:20:38.383942Z"
    }
   },
   "id": "initial_id"
  },
  {
   "cell_type": "code",
   "execution_count": 9,
   "outputs": [],
   "source": [
    "output_questions_model: OutputQuestionsSchema = chain.invoke(\"what is the program of political party that win last elections in the Netherlands\")"
   ],
   "metadata": {
    "collapsed": false,
    "ExecuteTime": {
     "end_time": "2023-12-18T07:20:42.521260Z",
     "start_time": "2023-12-18T07:20:38.399799Z"
    }
   },
   "id": "418a6561914ef8c9"
  },
  {
   "cell_type": "code",
   "execution_count": 10,
   "outputs": [
    {
     "name": "stdout",
     "output_type": "stream",
     "text": [
      "questions=['What political party won the last elections in the Netherlands?', 'What is the program of the [winning political party] in the Netherlands?']\n"
     ]
    }
   ],
   "source": [
    "print(output_questions_model)"
   ],
   "metadata": {
    "collapsed": false,
    "ExecuteTime": {
     "end_time": "2023-12-18T07:20:42.526605Z",
     "start_time": "2023-12-18T07:20:42.521607Z"
    }
   },
   "id": "23274d0d0cb1f988"
  },
  {
   "cell_type": "code",
   "execution_count": 11,
   "outputs": [
    {
     "name": "stdout",
     "output_type": "stream",
     "text": [
      "What political party won the last elections in the Netherlands?\n",
      "Query: https://en.wikipedia.org/wiki/2021_Dutch_general_election\n",
      "Query: https://en.wikipedia.org/wiki/2023_Dutch_general_election\n",
      "Query: https://apnews.com/article/netherlands-election-candidates-prime-minister-f31f57a856f006ff0f2fc4984acaca6b\n",
      "Query: https://www.nytimes.com/2023/11/23/world/europe/dutch-election-results-far-right-geert-wilders.html\n",
      "Query: https://www.bbc.com/news/world-europe-67504272\n",
      "Query: https://www.politico.eu/europe-poll-of-polls/netherlands/\n",
      "Query: https://www.theguardian.com/us-news/2023/nov/23/first-thing-dutch-election-results-put-geert-wilders-far-right-party-in-lead\n",
      "Query: https://www.aa.com.tr/en/europe/final-official-results-of-dutch-elections-confirm-wilders-win/3070502\n",
      "Query: https://www.cnbc.com/2023/11/23/dutch-election-what-comes-next-after-shock-far-right-victory.html\n",
      "Query: https://time.com/6339173/dutch-election-results-geert-wilders-far-right-netherlands-europe/\n",
      "The political party that won the last elections in the Netherlands is the Party for Freedom (PVV) led by Geert Wilders.\n",
      "Party for Freedom PVV political program Netherlands\n",
      "Query: https://www.britannica.com/topic/Party-for-Freedom\n",
      "Query: https://www.brookings.edu/articles/the-biggest-problem-in-the-netherlands-understanding-the-party-for-freedoms-politicization-of-islam/\n",
      "Query: https://www.aljazeera.com/news/2023/11/24/why-wilders-won-election-boosts-dutch-far-right-but-what-happens-next\n",
      "Query: https://www.ebaa.org/industry-updates/netherlands-2023-elections-a-shift-towards-the-far-right/\n",
      "Query: https://www.theguardian.com/world/2023/nov/19/far-right-party-for-freedom-gaining-in-polls-ahead-of-netherlands-election\n",
      "Query: https://time.com/6339428/netherlands-ruling-party-government-decision-pvv-win/\n",
      "Query: https://www.france24.com/en/live-news/20231123-wilders-and-the-pvv-what-do-they-stand-for\n",
      "Query: https://www.chathamhouse.org/2023/11/what-far-right-surge-netherlands-means-europe\n",
      "Query: https://apnews.com/article/netherlands-election-candidates-prime-minister-wilders-9ed5752f49315517876f1646d4c2d4f2\n",
      "The Party for Freedom (Partij voor de Vrijheid; PVV) in the Netherlands is known primarily for promoting anti-immigration and anti-Islamic policies. The PVV, led by Geert Wilders, is an anti-Islam populist party that draws on support from the now defunct List Pim Fortuyn (LPF), which was named after its founder Wilhelmus Fortuyn, who was also an anti-immigration populist and was assassinated in 2002. The PVV has also been quick to capitalize on populist sentiment, particularly in the wake of the euro-zone debt crisis. The party is characterized as Euroskeptic and has been involved in national debates on immigrant amnesty, assimilation, and the clash of Christian and Islamic cultures in the Netherlands.\n",
      "Final answer: The Party for Freedom (Partij voor de Vrijheid; PVV) in the Netherlands is known primarily for promoting anti-immigration and anti-Islamic policies. The PVV, led by Geert Wilders, is an anti-Islam populist party that draws on support from the now defunct List Pim Fortuyn (LPF), which was named after its founder Wilhelmus Fortuyn, who was also an anti-immigration populist and was assassinated in 2002. The PVV has also been quick to capitalize on populist sentiment, particularly in the wake of the euro-zone debt crisis. The party is characterized as Euroskeptic and has been involved in national debates on immigrant amnesty, assimilation, and the clash of Christian and Islamic cultures in the Netherlands.\n"
     ]
    }
   ],
   "source": [
    "from lib.rag_internet_search import answer_simple_question\n",
    "from lib.runnables import google_queries_merger_runnable\n",
    "\n",
    "answer: str = None\n",
    "answers: list[str] = []\n",
    "\n",
    "for question in output_questions_model.questions:\n",
    "    combined_question = question\n",
    "    if answer:\n",
    "        merger_runnable = google_queries_merger_runnable()\n",
    "        combined_question = merger_runnable.invoke(\". \".join([answer, question]))\n",
    "    \n",
    "    print(combined_question)\n",
    "    answer = answer_simple_question(combined_question)\n",
    "    answers.append(answer)\n",
    "    print(answer)\n",
    "        \n",
    "print(f\"Final answer: {answer}\")\n"
   ],
   "metadata": {
    "collapsed": false,
    "ExecuteTime": {
     "end_time": "2023-12-18T07:21:35.774250Z",
     "start_time": "2023-12-18T07:20:42.526036Z"
    }
   },
   "id": "98f46aed03318a75"
  },
  {
   "cell_type": "code",
   "execution_count": 12,
   "outputs": [
    {
     "name": "stdout",
     "output_type": "stream",
     "text": [
      "\n",
      "QUESTION:\n",
      "What political party won the last elections in the Netherlands?\n",
      "ANSWER:\n",
      "The political party that won the last elections in the Netherlands is the Party for Freedom (PVV) led by Geert Wilders.\n",
      "\n",
      "QUESTION:\n",
      "What is the program of the [winning political party] in the Netherlands?\n",
      "ANSWER:\n",
      "The Party for Freedom (Partij voor de Vrijheid; PVV) in the Netherlands is known primarily for promoting anti-immigration and anti-Islamic policies. The PVV, led by Geert Wilders, is an anti-Islam populist party that draws on support from the now defunct List Pim Fortuyn (LPF), which was named after its founder Wilhelmus Fortuyn, who was also an anti-immigration populist and was assassinated in 2002. The PVV has also been quick to capitalize on populist sentiment, particularly in the wake of the euro-zone debt crisis. The party is characterized as Euroskeptic and has been involved in national debates on immigrant amnesty, assimilation, and the clash of Christian and Islamic cultures in the Netherlands.\n"
     ]
    }
   ],
   "source": [
    "from langchain_core.output_parsers import StrOutputParser\n",
    "\n",
    "def generate_qna_template(questions, answers):\n",
    "    qnas = []\n",
    "    for q, a in zip(questions, answers):\n",
    "        qnas.append(f\"\"\"\n",
    "QUESTION:\n",
    "{q}\n",
    "ANSWER:\n",
    "{a}\n",
    "\"\"\")\n",
    "    return \"\".join(qnas)\n",
    "\n",
    "\n",
    "qnas = generate_qna_template(output_questions_model.questions, answers)\n",
    "\n",
    "print(qnas)"
   ],
   "metadata": {
    "collapsed": false,
    "ExecuteTime": {
     "end_time": "2023-12-18T07:21:35.777144Z",
     "start_time": "2023-12-18T07:21:35.773059Z"
    }
   },
   "id": "d8661ec88e52fc9a"
  },
  {
   "cell_type": "code",
   "execution_count": 13,
   "outputs": [],
   "source": [
    "from operator import itemgetter\n",
    "\n",
    "template = \"\"\"\n",
    "I have a complex question that was split on multiple simple questions and answers. I need to summarise these questions and answers to provide correct answer to the complex question. Summarize the answer only based on provided questions and answers:\n",
    "{qnas}\n",
    "\n",
    "Please provide an answer for the complex question:\n",
    "{question}\n",
    "\n",
    "Tip: Make sure you provided correct output.\n",
    "Tip: Make sure you provide just text and do not include it in quotes\n",
    "Tip: Do not propose google some part of the answer, keep the summary with the answers in questions-answers.\n",
    "\"\"\"\n",
    "\n",
    "prompt = ChatPromptTemplate.from_template(template)\n",
    "\n",
    "model = ChatOpenAI(api_key=os.getenv('OPENAI_API_KEY'), model_name=\"gpt-4-1106-preview\")\n",
    "\n",
    "runnable = (\n",
    "        {\"qnas\": itemgetter(\"qnas\"), \"question\": itemgetter(\"question\")}\n",
    "        | prompt\n",
    "        | model\n",
    "        | StrOutputParser()\n",
    ")"
   ],
   "metadata": {
    "collapsed": false,
    "ExecuteTime": {
     "end_time": "2023-12-18T07:21:35.788627Z",
     "start_time": "2023-12-18T07:21:35.776428Z"
    }
   },
   "id": "31275c05820fe2e"
  },
  {
   "cell_type": "code",
   "execution_count": 14,
   "outputs": [
    {
     "data": {
      "text/plain": "'The Party for Freedom (PVV), led by Geert Wilders, won the last elections in the Netherlands. The PVV is primarily known for its anti-immigration and anti-Islamic policies. It draws on support from the legacy of the List Pim Fortuyn (LPF) and has capitalized on populist sentiment, especially during the euro-zone debt crisis. The party is characterized as Euroskeptic and has been involved in national debates concerning immigrant amnesty, assimilation, and the perceived cultural conflicts between Christian and Islamic values in the Netherlands.'"
     },
     "execution_count": 14,
     "metadata": {},
     "output_type": "execute_result"
    }
   ],
   "source": [
    "runnable.invoke({\"qnas\": qnas, \"question\": \"what is the program of political party that win last elections in the Netherlands\"})"
   ],
   "metadata": {
    "collapsed": false,
    "ExecuteTime": {
     "end_time": "2023-12-18T07:21:41.812354Z",
     "start_time": "2023-12-18T07:21:35.789408Z"
    }
   },
   "id": "dd4bc6f8c5cda11a"
  }
 ],
 "metadata": {
  "kernelspec": {
   "display_name": "Python 3",
   "language": "python",
   "name": "python3"
  },
  "language_info": {
   "codemirror_mode": {
    "name": "ipython",
    "version": 2
   },
   "file_extension": ".py",
   "mimetype": "text/x-python",
   "name": "python",
   "nbconvert_exporter": "python",
   "pygments_lexer": "ipython2",
   "version": "2.7.6"
  }
 },
 "nbformat": 4,
 "nbformat_minor": 5
}
